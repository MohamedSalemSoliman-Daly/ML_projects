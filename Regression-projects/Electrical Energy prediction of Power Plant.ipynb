{
 "cells": [
  {
   "cell_type": "markdown",
   "id": "e1931d39",
   "metadata": {},
   "source": [
    "# <center>Electrical Energy prediction of Power Plant"
   ]
  },
  {
   "cell_type": "markdown",
   "id": "213745fd",
   "metadata": {},
   "source": [
    "**In this project**\n",
    "- applying keras seqential model\n",
    "- visulaizing the loss and val loss through 100 epoch"
   ]
  },
  {
   "cell_type": "markdown",
   "id": "69704572",
   "metadata": {},
   "source": [
    "**Link of datasets**\n",
    "- https://archive.ics.uci.edu/ml/datasets/Combined+Cycle+Power+Plant"
   ]
  },
  {
   "cell_type": "code",
   "execution_count": 1,
   "id": "f2cd0bf3",
   "metadata": {},
   "outputs": [],
   "source": [
    "# Importing the libraries\n",
    "import numpy as np\n",
    "import pandas as pd\n",
    "import matplotlib.pyplot as plt\n",
    "import seaborn as sns\n",
    "#------------------sklearn\n",
    "from sklearn.model_selection import train_test_split\n",
    "from sklearn.preprocessing import MinMaxScaler,StandardScaler\n",
    "#from sklearn.preprocessing import tra\n",
    "#-------------- tensorflow- keras\n",
    "from tensorflow import keras\n",
    "#import model\n",
    "from keras.models import Sequential\n",
    "# import the layers\n",
    "from keras.layers import Dense"
   ]
  },
  {
   "cell_type": "code",
   "execution_count": 2,
   "id": "3469f86b",
   "metadata": {},
   "outputs": [
    {
     "name": "stdout",
     "output_type": "stream",
     "text": [
      "(9568, 5)\n"
     ]
    },
    {
     "data": {
      "text/html": [
       "<div>\n",
       "<style scoped>\n",
       "    .dataframe tbody tr th:only-of-type {\n",
       "        vertical-align: middle;\n",
       "    }\n",
       "\n",
       "    .dataframe tbody tr th {\n",
       "        vertical-align: top;\n",
       "    }\n",
       "\n",
       "    .dataframe thead th {\n",
       "        text-align: right;\n",
       "    }\n",
       "</style>\n",
       "<table border=\"1\" class=\"dataframe\">\n",
       "  <thead>\n",
       "    <tr style=\"text-align: right;\">\n",
       "      <th></th>\n",
       "      <th>AT</th>\n",
       "      <th>V</th>\n",
       "      <th>AP</th>\n",
       "      <th>RH</th>\n",
       "      <th>PE</th>\n",
       "    </tr>\n",
       "  </thead>\n",
       "  <tbody>\n",
       "    <tr>\n",
       "      <th>0</th>\n",
       "      <td>14.96</td>\n",
       "      <td>41.76</td>\n",
       "      <td>1024.07</td>\n",
       "      <td>73.17</td>\n",
       "      <td>463.26</td>\n",
       "    </tr>\n",
       "    <tr>\n",
       "      <th>1</th>\n",
       "      <td>25.18</td>\n",
       "      <td>62.96</td>\n",
       "      <td>1020.04</td>\n",
       "      <td>59.08</td>\n",
       "      <td>444.37</td>\n",
       "    </tr>\n",
       "    <tr>\n",
       "      <th>2</th>\n",
       "      <td>5.11</td>\n",
       "      <td>39.40</td>\n",
       "      <td>1012.16</td>\n",
       "      <td>92.14</td>\n",
       "      <td>488.56</td>\n",
       "    </tr>\n",
       "  </tbody>\n",
       "</table>\n",
       "</div>"
      ],
      "text/plain": [
       "      AT      V       AP     RH      PE\n",
       "0  14.96  41.76  1024.07  73.17  463.26\n",
       "1  25.18  62.96  1020.04  59.08  444.37\n",
       "2   5.11  39.40  1012.16  92.14  488.56"
      ]
     },
     "execution_count": 2,
     "metadata": {},
     "output_type": "execute_result"
    }
   ],
   "source": [
    "df=pd.read_excel(\"Folds5x2_pp.xlsx\")\n",
    "print(df.shape)\n",
    "df.head(3)"
   ]
  },
  {
   "cell_type": "markdown",
   "id": "fa9fa2d1",
   "metadata": {},
   "source": [
    "### Exploratory Data Analysis\n",
    "- check for **Missing** values\n",
    "- check statics for **numerical features**\n",
    "- labeling **categorical features**"
   ]
  },
  {
   "cell_type": "code",
   "execution_count": 3,
   "id": "9c4a1f6a",
   "metadata": {},
   "outputs": [
    {
     "name": "stdout",
     "output_type": "stream",
     "text": [
      "<class 'pandas.core.frame.DataFrame'>\n",
      "RangeIndex: 9568 entries, 0 to 9567\n",
      "Data columns (total 5 columns):\n",
      " #   Column  Non-Null Count  Dtype  \n",
      "---  ------  --------------  -----  \n",
      " 0   AT      9568 non-null   float64\n",
      " 1   V       9568 non-null   float64\n",
      " 2   AP      9568 non-null   float64\n",
      " 3   RH      9568 non-null   float64\n",
      " 4   PE      9568 non-null   float64\n",
      "dtypes: float64(5)\n",
      "memory usage: 373.9 KB\n"
     ]
    }
   ],
   "source": [
    "df.info()"
   ]
  },
  {
   "cell_type": "code",
   "execution_count": 4,
   "id": "cdd19995",
   "metadata": {},
   "outputs": [
    {
     "data": {
      "text/plain": [
       "AT    0\n",
       "V     0\n",
       "AP    0\n",
       "RH    0\n",
       "PE    0\n",
       "dtype: int64"
      ]
     },
     "execution_count": 4,
     "metadata": {},
     "output_type": "execute_result"
    }
   ],
   "source": [
    "# checking for missing values\n",
    "df.isnull().sum()"
   ]
  },
  {
   "cell_type": "code",
   "execution_count": 5,
   "id": "493127f0",
   "metadata": {},
   "outputs": [],
   "source": [
    "# check for categorical features\n",
    "for i in df.columns:\n",
    "    if df[i].dtypes==\"object\":\n",
    "        cat.append(i)\n",
    "        print(i,len(set(df[i])))"
   ]
  },
  {
   "cell_type": "code",
   "execution_count": 6,
   "id": "66578600",
   "metadata": {},
   "outputs": [
    {
     "data": {
      "text/plain": [
       "False"
      ]
     },
     "execution_count": 6,
     "metadata": {},
     "output_type": "execute_result"
    }
   ],
   "source": [
    "(df < 0).values.any()"
   ]
  },
  {
   "cell_type": "code",
   "execution_count": 7,
   "id": "54df8dbc",
   "metadata": {},
   "outputs": [
    {
     "data": {
      "text/html": [
       "<div>\n",
       "<style scoped>\n",
       "    .dataframe tbody tr th:only-of-type {\n",
       "        vertical-align: middle;\n",
       "    }\n",
       "\n",
       "    .dataframe tbody tr th {\n",
       "        vertical-align: top;\n",
       "    }\n",
       "\n",
       "    .dataframe thead th {\n",
       "        text-align: right;\n",
       "    }\n",
       "</style>\n",
       "<table border=\"1\" class=\"dataframe\">\n",
       "  <thead>\n",
       "    <tr style=\"text-align: right;\">\n",
       "      <th></th>\n",
       "      <th>count</th>\n",
       "      <th>mean</th>\n",
       "      <th>std</th>\n",
       "      <th>min</th>\n",
       "      <th>25%</th>\n",
       "      <th>50%</th>\n",
       "      <th>75%</th>\n",
       "      <th>max</th>\n",
       "    </tr>\n",
       "  </thead>\n",
       "  <tbody>\n",
       "    <tr>\n",
       "      <th>AT</th>\n",
       "      <td>9568.0</td>\n",
       "      <td>19.651231</td>\n",
       "      <td>7.452473</td>\n",
       "      <td>1.81</td>\n",
       "      <td>13.5100</td>\n",
       "      <td>20.345</td>\n",
       "      <td>25.72</td>\n",
       "      <td>37.11</td>\n",
       "    </tr>\n",
       "    <tr>\n",
       "      <th>V</th>\n",
       "      <td>9568.0</td>\n",
       "      <td>54.305804</td>\n",
       "      <td>12.707893</td>\n",
       "      <td>25.36</td>\n",
       "      <td>41.7400</td>\n",
       "      <td>52.080</td>\n",
       "      <td>66.54</td>\n",
       "      <td>81.56</td>\n",
       "    </tr>\n",
       "    <tr>\n",
       "      <th>AP</th>\n",
       "      <td>9568.0</td>\n",
       "      <td>1013.259078</td>\n",
       "      <td>5.938784</td>\n",
       "      <td>992.89</td>\n",
       "      <td>1009.1000</td>\n",
       "      <td>1012.940</td>\n",
       "      <td>1017.26</td>\n",
       "      <td>1033.30</td>\n",
       "    </tr>\n",
       "    <tr>\n",
       "      <th>RH</th>\n",
       "      <td>9568.0</td>\n",
       "      <td>73.308978</td>\n",
       "      <td>14.600269</td>\n",
       "      <td>25.56</td>\n",
       "      <td>63.3275</td>\n",
       "      <td>74.975</td>\n",
       "      <td>84.83</td>\n",
       "      <td>100.16</td>\n",
       "    </tr>\n",
       "    <tr>\n",
       "      <th>PE</th>\n",
       "      <td>9568.0</td>\n",
       "      <td>454.365009</td>\n",
       "      <td>17.066995</td>\n",
       "      <td>420.26</td>\n",
       "      <td>439.7500</td>\n",
       "      <td>451.550</td>\n",
       "      <td>468.43</td>\n",
       "      <td>495.76</td>\n",
       "    </tr>\n",
       "  </tbody>\n",
       "</table>\n",
       "</div>"
      ],
      "text/plain": [
       "     count         mean        std     min        25%       50%      75%  \\\n",
       "AT  9568.0    19.651231   7.452473    1.81    13.5100    20.345    25.72   \n",
       "V   9568.0    54.305804  12.707893   25.36    41.7400    52.080    66.54   \n",
       "AP  9568.0  1013.259078   5.938784  992.89  1009.1000  1012.940  1017.26   \n",
       "RH  9568.0    73.308978  14.600269   25.56    63.3275    74.975    84.83   \n",
       "PE  9568.0   454.365009  17.066995  420.26   439.7500   451.550   468.43   \n",
       "\n",
       "        max  \n",
       "AT    37.11  \n",
       "V     81.56  \n",
       "AP  1033.30  \n",
       "RH   100.16  \n",
       "PE   495.76  "
      ]
     },
     "execution_count": 7,
     "metadata": {},
     "output_type": "execute_result"
    }
   ],
   "source": [
    "# statistical representation\n",
    "df.describe().T"
   ]
  },
  {
   "cell_type": "code",
   "execution_count": 8,
   "id": "771fc039",
   "metadata": {},
   "outputs": [
    {
     "data": {
      "text/plain": [
       "<AxesSubplot:>"
      ]
     },
     "execution_count": 8,
     "metadata": {},
     "output_type": "execute_result"
    },
    {
     "data": {
      "image/png": "[encoded data removed]",
      "text/plain": [
       "<Figure size 432x288 with 2 Axes>"
      ]
     },
     "metadata": {
      "needs_background": "light"
     },
     "output_type": "display_data"
    }
   ],
   "source": [
    "# Correlation\n",
    "sns.heatmap(df.corr(),center=True,annot=True)"
   ]
  },
  {
   "cell_type": "code",
   "execution_count": 9,
   "id": "15d008fb",
   "metadata": {},
   "outputs": [],
   "source": [
    "# separion Features and Target matrix\n",
    "X=df.drop([\"PE\"],axis=1).values\n",
    "y=df[\"PE\"].values"
   ]
  },
  {
   "cell_type": "code",
   "execution_count": 10,
   "id": "c1b59daf",
   "metadata": {},
   "outputs": [
    {
     "name": "stdout",
     "output_type": "stream",
     "text": [
      "(9568, 5) (7654, 4) (1914, 4)\n"
     ]
    }
   ],
   "source": [
    "# Separting traing testing validating sets\n",
    "X_train, X_test, y_train, y_test = train_test_split(X,y, test_size = 0.2,random_state=40)\n",
    "print(df.shape,X_train.shape, X_test.shape)"
   ]
  },
  {
   "cell_type": "code",
   "execution_count": 11,
   "id": "29e202ce",
   "metadata": {},
   "outputs": [
    {
     "name": "stdout",
     "output_type": "stream",
     "text": [
      "0.0 1.0000000000000002\n"
     ]
    }
   ],
   "source": [
    "# scalling\n",
    "scaler=MinMaxScaler()\n",
    "X_train=scaler.fit_transform(X_train)\n",
    "X_test=scaler.transform(X_test)\n",
    "print(X_train.min(),X_train.max())"
   ]
  },
  {
   "cell_type": "markdown",
   "id": "b449e203",
   "metadata": {},
   "source": [
    "### Building Neural Network Model\n",
    "- Building Arcitucture\n",
    "    - sequential model\n",
    "    - hidden layers\n",
    "    - output layer\n",
    "    - activation function\n",
    "- Model compile\n",
    "- Model traning"
   ]
  },
  {
   "cell_type": "code",
   "execution_count": 12,
   "id": "9fe8e39c",
   "metadata": {},
   "outputs": [
    {
     "name": "stdout",
     "output_type": "stream",
     "text": [
      "Model: \"sequential\"\n",
      "_________________________________________________________________\n",
      "Layer (type)                 Output Shape              Param #   \n",
      "=================================================================\n",
      "dense (Dense)                (None, 6)                 30        \n",
      "_________________________________________________________________\n",
      "dense_1 (Dense)              (None, 6)                 42        \n",
      "_________________________________________________________________\n",
      "dense_2 (Dense)              (None, 1)                 7         \n",
      "=================================================================\n",
      "Total params: 79\n",
      "Trainable params: 79\n",
      "Non-trainable params: 0\n",
      "_________________________________________________________________\n"
     ]
    }
   ],
   "source": [
    "model=Sequential()\n",
    "model.add(Dense(6,activation='relu',input_shape=(X.shape[1],)))\n",
    "model.add(Dense(6,activation='relu'))\n",
    "model.add(Dense(1))\n",
    "model.summary()"
   ]
  },
  {
   "cell_type": "code",
   "execution_count": 13,
   "id": "66099fb1",
   "metadata": {},
   "outputs": [
    {
     "name": "stdout",
     "output_type": "stream",
     "text": [
      "mean_squared_error\n"
     ]
    }
   ],
   "source": [
    "model.compile(optimizer=\"adam\",\n",
    "             loss=\"mean_squared_error\",\n",
    "             metrics=[\"accuracy\"])\n",
    "print(model.loss)# print the type of loss function"
   ]
  },
  {
   "cell_type": "code",
   "execution_count": 14,
   "id": "0bb16b5d",
   "metadata": {},
   "outputs": [
    {
     "name": "stdout",
     "output_type": "stream",
     "text": [
      "Epoch 1/100\n",
      "240/240 [==============================] - 2s 4ms/step - loss: 204770.7656 - accuracy: 0.0000e+00 - val_loss: 200815.6562 - val_accuracy: 0.0000e+00\n",
      "Epoch 2/100\n",
      "240/240 [==============================] - 1s 3ms/step - loss: 186337.2969 - accuracy: 0.0000e+00 - val_loss: 166544.9219 - val_accuracy: 0.0000e+00\n",
      "Epoch 3/100\n",
      "240/240 [==============================] - 1s 3ms/step - loss: 135135.2188 - accuracy: 0.0000e+00 - val_loss: 100846.9766 - val_accuracy: 0.0000e+00\n",
      "Epoch 4/100\n",
      "240/240 [==============================] - 1s 2ms/step - loss: 66667.9141 - accuracy: 0.0000e+00 - val_loss: 37039.5664 - val_accuracy: 0.0000e+00\n",
      "Epoch 5/100\n",
      "240/240 [==============================] - 1s 2ms/step - loss: 19438.1250 - accuracy: 0.0000e+00 - val_loss: 8325.8066 - val_accuracy: 0.0000e+00\n",
      "Epoch 6/100\n",
      "240/240 [==============================] - 1s 2ms/step - loss: 4999.0752 - accuracy: 0.0000e+00 - val_loss: 3506.7012 - val_accuracy: 0.0000e+00\n",
      "Epoch 7/100\n",
      "240/240 [==============================] - 1s 3ms/step - loss: 3279.1228 - accuracy: 0.0000e+00 - val_loss: 3104.8337 - val_accuracy: 0.0000e+00\n",
      "Epoch 8/100\n",
      "240/240 [==============================] - 1s 2ms/step - loss: 3081.1064 - accuracy: 0.0000e+00 - val_loss: 2959.1934 - val_accuracy: 0.0000e+00\n",
      "Epoch 9/100\n",
      "240/240 [==============================] - 1s 2ms/step - loss: 2940.4563 - accuracy: 0.0000e+00 - val_loss: 2820.2202 - val_accuracy: 0.0000e+00\n",
      "Epoch 10/100\n",
      "240/240 [==============================] - 1s 2ms/step - loss: 2794.8757 - accuracy: 0.0000e+00 - val_loss: 2671.3345 - val_accuracy: 0.0000e+00\n",
      "Epoch 11/100\n",
      "240/240 [==============================] - 1s 2ms/step - loss: 2644.4478 - accuracy: 0.0000e+00 - val_loss: 2524.2815 - val_accuracy: 0.0000e+00\n",
      "Epoch 12/100\n",
      "240/240 [==============================] - 1s 2ms/step - loss: 2492.3743 - accuracy: 0.0000e+00 - val_loss: 2372.0854 - val_accuracy: 0.0000e+00\n",
      "Epoch 13/100\n",
      "240/240 [==============================] - 1s 2ms/step - loss: 2341.8291 - accuracy: 0.0000e+00 - val_loss: 2225.1274 - val_accuracy: 0.0000e+00\n",
      "Epoch 14/100\n",
      "240/240 [==============================] - 1s 2ms/step - loss: 2194.8130 - accuracy: 0.0000e+00 - val_loss: 2083.2000 - val_accuracy: 0.0000e+00\n",
      "Epoch 15/100\n",
      "240/240 [==============================] - 1s 2ms/step - loss: 2054.2720 - accuracy: 0.0000e+00 - val_loss: 1948.3413 - val_accuracy: 0.0000e+00\n",
      "Epoch 16/100\n",
      "240/240 [==============================] - 1s 2ms/step - loss: 1921.4932 - accuracy: 0.0000e+00 - val_loss: 1821.0051 - val_accuracy: 0.0000e+00\n",
      "Epoch 17/100\n",
      "240/240 [==============================] - 1s 2ms/step - loss: 1798.7827 - accuracy: 0.0000e+00 - val_loss: 1705.5239 - val_accuracy: 0.0000e+00\n",
      "Epoch 18/100\n",
      "240/240 [==============================] - 1s 2ms/step - loss: 1687.6024 - accuracy: 0.0000e+00 - val_loss: 1601.1311 - val_accuracy: 0.0000e+00\n",
      "Epoch 19/100\n",
      "240/240 [==============================] - 1s 2ms/step - loss: 1587.2782 - accuracy: 0.0000e+00 - val_loss: 1507.3688 - val_accuracy: 0.0000e+00\n",
      "Epoch 20/100\n",
      "240/240 [==============================] - 1s 2ms/step - loss: 1499.4250 - accuracy: 0.0000e+00 - val_loss: 1424.7450 - val_accuracy: 0.0000e+00\n",
      "Epoch 21/100\n",
      "240/240 [==============================] - 1s 2ms/step - loss: 1420.9243 - accuracy: 0.0000e+00 - val_loss: 1351.9424 - val_accuracy: 0.0000e+00\n",
      "Epoch 22/100\n",
      "240/240 [==============================] - 1s 2ms/step - loss: 1352.7708 - accuracy: 0.0000e+00 - val_loss: 1287.2156 - val_accuracy: 0.0000e+00\n",
      "Epoch 23/100\n",
      "240/240 [==============================] - 1s 3ms/step - loss: 1290.6063 - accuracy: 0.0000e+00 - val_loss: 1228.8618 - val_accuracy: 0.0000e+00\n",
      "Epoch 24/100\n",
      "240/240 [==============================] - 1s 2ms/step - loss: 1233.5825 - accuracy: 0.0000e+00 - val_loss: 1175.2335 - val_accuracy: 0.0000e+00\n",
      "Epoch 25/100\n",
      "240/240 [==============================] - 1s 2ms/step - loss: 1180.2341 - accuracy: 0.0000e+00 - val_loss: 1125.2067 - val_accuracy: 0.0000e+00\n",
      "Epoch 26/100\n",
      "240/240 [==============================] - 1s 2ms/step - loss: 1129.2163 - accuracy: 0.0000e+00 - val_loss: 1076.6477 - val_accuracy: 0.0000e+00\n",
      "Epoch 27/100\n",
      "240/240 [==============================] - 1s 2ms/step - loss: 1079.9828 - accuracy: 0.0000e+00 - val_loss: 1028.0510 - val_accuracy: 0.0000e+00\n",
      "Epoch 28/100\n",
      "240/240 [==============================] - 1s 3ms/step - loss: 1030.1494 - accuracy: 0.0000e+00 - val_loss: 981.3936 - val_accuracy: 0.0000e+00\n",
      "Epoch 29/100\n",
      "240/240 [==============================] - 1s 3ms/step - loss: 981.2565 - accuracy: 0.0000e+00 - val_loss: 934.5073 - val_accuracy: 0.0000e+00\n",
      "Epoch 30/100\n",
      "240/240 [==============================] - 1s 3ms/step - loss: 932.3474 - accuracy: 0.0000e+00 - val_loss: 889.4291 - val_accuracy: 0.0000e+00\n",
      "Epoch 31/100\n",
      "240/240 [==============================] - 1s 3ms/step - loss: 885.1776 - accuracy: 0.0000e+00 - val_loss: 842.2278 - val_accuracy: 0.0000e+00\n",
      "Epoch 32/100\n",
      "240/240 [==============================] - 1s 2ms/step - loss: 837.4150 - accuracy: 0.0000e+00 - val_loss: 798.3213 - val_accuracy: 0.0000e+00\n",
      "Epoch 33/100\n",
      "240/240 [==============================] - 1s 2ms/step - loss: 791.5007 - accuracy: 0.0000e+00 - val_loss: 753.4028 - val_accuracy: 0.0000e+00\n",
      "Epoch 34/100\n",
      "240/240 [==============================] - 1s 2ms/step - loss: 744.2870 - accuracy: 0.0000e+00 - val_loss: 709.5997 - val_accuracy: 0.0000e+00\n",
      "Epoch 35/100\n",
      "240/240 [==============================] - 1s 2ms/step - loss: 699.6116 - accuracy: 0.0000e+00 - val_loss: 667.5261 - val_accuracy: 0.0000e+00\n",
      "Epoch 36/100\n",
      "240/240 [==============================] - 1s 2ms/step - loss: 656.3997 - accuracy: 0.0000e+00 - val_loss: 626.6916 - val_accuracy: 0.0000e+00\n",
      "Epoch 37/100\n",
      "240/240 [==============================] - 1s 2ms/step - loss: 613.8030 - accuracy: 0.0000e+00 - val_loss: 587.3712 - val_accuracy: 0.0000e+00\n",
      "Epoch 38/100\n",
      "240/240 [==============================] - 1s 3ms/step - loss: 572.7830 - accuracy: 0.0000e+00 - val_loss: 548.5690 - val_accuracy: 0.0000e+00\n",
      "Epoch 39/100\n",
      "240/240 [==============================] - 1s 2ms/step - loss: 533.1133 - accuracy: 0.0000e+00 - val_loss: 512.3610 - val_accuracy: 0.0000e+00\n",
      "Epoch 40/100\n",
      "240/240 [==============================] - 1s 2ms/step - loss: 495.8552 - accuracy: 0.0000e+00 - val_loss: 477.8310 - val_accuracy: 0.0000e+00\n",
      "Epoch 41/100\n",
      "240/240 [==============================] - 1s 2ms/step - loss: 460.0903 - accuracy: 0.0000e+00 - val_loss: 444.2977 - val_accuracy: 0.0000e+00\n",
      "Epoch 42/100\n",
      "240/240 [==============================] - 1s 2ms/step - loss: 425.9805 - accuracy: 0.0000e+00 - val_loss: 411.2459 - val_accuracy: 0.0000e+00\n",
      "Epoch 43/100\n",
      "240/240 [==============================] - 1s 2ms/step - loss: 393.7103 - accuracy: 0.0000e+00 - val_loss: 381.6348 - val_accuracy: 0.0000e+00\n",
      "Epoch 44/100\n",
      "240/240 [==============================] - 1s 2ms/step - loss: 363.4890 - accuracy: 0.0000e+00 - val_loss: 353.6540 - val_accuracy: 0.0000e+00\n",
      "Epoch 45/100\n",
      "240/240 [==============================] - 1s 2ms/step - loss: 335.0168 - accuracy: 0.0000e+00 - val_loss: 326.0086 - val_accuracy: 0.0000e+00\n",
      "Epoch 46/100\n",
      "240/240 [==============================] - 1s 2ms/step - loss: 307.7286 - accuracy: 0.0000e+00 - val_loss: 302.7929 - val_accuracy: 0.0000e+00\n",
      "Epoch 47/100\n",
      "240/240 [==============================] - 1s 2ms/step - loss: 283.2159 - accuracy: 0.0000e+00 - val_loss: 276.9864 - val_accuracy: 0.0000e+00\n",
      "Epoch 48/100\n",
      "240/240 [==============================] - 1s 2ms/step - loss: 258.9792 - accuracy: 0.0000e+00 - val_loss: 254.7181 - val_accuracy: 0.0000e+00\n",
      "Epoch 49/100\n",
      "240/240 [==============================] - 1s 2ms/step - loss: 236.6087 - accuracy: 0.0000e+00 - val_loss: 232.8207 - val_accuracy: 0.0000e+00\n",
      "Epoch 50/100\n",
      "240/240 [==============================] - 1s 3ms/step - loss: 215.4449 - accuracy: 0.0000e+00 - val_loss: 212.9940 - val_accuracy: 0.0000e+00\n",
      "Epoch 51/100\n",
      "240/240 [==============================] - 1s 2ms/step - loss: 195.8083 - accuracy: 0.0000e+00 - val_loss: 194.0522 - val_accuracy: 0.0000e+00\n",
      "Epoch 52/100\n",
      "240/240 [==============================] - 1s 2ms/step - loss: 178.4659 - accuracy: 0.0000e+00 - val_loss: 176.6055 - val_accuracy: 0.0000e+00\n",
      "Epoch 53/100\n"
     ]
    },
    {
     "name": "stdout",
     "output_type": "stream",
     "text": [
      "240/240 [==============================] - 1s 2ms/step - loss: 160.5905 - accuracy: 0.0000e+00 - val_loss: 160.6530 - val_accuracy: 0.0000e+00\n",
      "Epoch 54/100\n",
      "240/240 [==============================] - 1s 2ms/step - loss: 145.4344 - accuracy: 0.0000e+00 - val_loss: 145.1521 - val_accuracy: 0.0000e+00\n",
      "Epoch 55/100\n",
      "240/240 [==============================] - 1s 2ms/step - loss: 130.3383 - accuracy: 0.0000e+00 - val_loss: 131.1453 - val_accuracy: 0.0000e+00\n",
      "Epoch 56/100\n",
      "240/240 [==============================] - 1s 3ms/step - loss: 117.0321 - accuracy: 0.0000e+00 - val_loss: 116.9466 - val_accuracy: 0.0000e+00\n",
      "Epoch 57/100\n",
      "240/240 [==============================] - 1s 3ms/step - loss: 104.4672 - accuracy: 0.0000e+00 - val_loss: 104.5422 - val_accuracy: 0.0000e+00\n",
      "Epoch 58/100\n",
      "240/240 [==============================] - 1s 3ms/step - loss: 92.9945 - accuracy: 0.0000e+00 - val_loss: 93.2347 - val_accuracy: 0.0000e+00\n",
      "Epoch 59/100\n",
      "240/240 [==============================] - 1s 2ms/step - loss: 82.3343 - accuracy: 0.0000e+00 - val_loss: 82.8880 - val_accuracy: 0.0000e+00\n",
      "Epoch 60/100\n",
      "240/240 [==============================] - 1s 2ms/step - loss: 72.7764 - accuracy: 0.0000e+00 - val_loss: 72.8663 - val_accuracy: 0.0000e+00\n",
      "Epoch 61/100\n",
      "240/240 [==============================] - 1s 2ms/step - loss: 64.3873 - accuracy: 0.0000e+00 - val_loss: 65.1275 - val_accuracy: 0.0000e+00\n",
      "Epoch 62/100\n",
      "240/240 [==============================] - 1s 2ms/step - loss: 56.5651 - accuracy: 0.0000e+00 - val_loss: 57.1150 - val_accuracy: 0.0000e+00\n",
      "Epoch 63/100\n",
      "240/240 [==============================] - 1s 2ms/step - loss: 50.0276 - accuracy: 0.0000e+00 - val_loss: 49.9428 - val_accuracy: 0.0000e+00\n",
      "Epoch 64/100\n",
      "240/240 [==============================] - 1s 2ms/step - loss: 44.3186 - accuracy: 0.0000e+00 - val_loss: 44.1421 - val_accuracy: 0.0000e+00\n",
      "Epoch 65/100\n",
      "240/240 [==============================] - 1s 2ms/step - loss: 39.5192 - accuracy: 0.0000e+00 - val_loss: 39.3638 - val_accuracy: 0.0000e+00\n",
      "Epoch 66/100\n",
      "240/240 [==============================] - 1s 2ms/step - loss: 35.3572 - accuracy: 0.0000e+00 - val_loss: 34.9909 - val_accuracy: 0.0000e+00\n",
      "Epoch 67/100\n",
      "240/240 [==============================] - 1s 3ms/step - loss: 32.0477 - accuracy: 0.0000e+00 - val_loss: 31.6291 - val_accuracy: 0.0000e+00\n",
      "Epoch 68/100\n",
      "240/240 [==============================] - 1s 2ms/step - loss: 29.2519 - accuracy: 0.0000e+00 - val_loss: 29.2357 - val_accuracy: 0.0000e+00\n",
      "Epoch 69/100\n",
      "240/240 [==============================] - 1s 3ms/step - loss: 27.1259 - accuracy: 0.0000e+00 - val_loss: 26.7442 - val_accuracy: 0.0000e+00\n",
      "Epoch 70/100\n",
      "240/240 [==============================] - 1s 2ms/step - loss: 25.5953 - accuracy: 0.0000e+00 - val_loss: 25.0049 - val_accuracy: 0.0000e+00\n",
      "Epoch 71/100\n",
      "240/240 [==============================] - 1s 2ms/step - loss: 24.2951 - accuracy: 0.0000e+00 - val_loss: 23.5190 - val_accuracy: 0.0000e+00\n",
      "Epoch 72/100\n",
      "240/240 [==============================] - 1s 3ms/step - loss: 23.3885 - accuracy: 0.0000e+00 - val_loss: 22.6405 - val_accuracy: 0.0000e+00\n",
      "Epoch 73/100\n",
      "240/240 [==============================] - 1s 3ms/step - loss: 22.6228 - accuracy: 0.0000e+00 - val_loss: 21.9593 - val_accuracy: 0.0000e+00\n",
      "Epoch 74/100\n",
      "240/240 [==============================] - 1s 3ms/step - loss: 22.3039 - accuracy: 0.0000e+00 - val_loss: 21.2882 - val_accuracy: 0.0000e+00\n",
      "Epoch 75/100\n",
      "240/240 [==============================] - 1s 3ms/step - loss: 21.8991 - accuracy: 0.0000e+00 - val_loss: 20.8237 - val_accuracy: 0.0000e+00\n",
      "Epoch 76/100\n",
      "240/240 [==============================] - 1s 3ms/step - loss: 21.7073 - accuracy: 0.0000e+00 - val_loss: 20.5470 - val_accuracy: 0.0000e+00\n",
      "Epoch 77/100\n",
      "240/240 [==============================] - 1s 2ms/step - loss: 21.5200 - accuracy: 0.0000e+00 - val_loss: 20.9266 - val_accuracy: 0.0000e+00\n",
      "Epoch 78/100\n",
      "240/240 [==============================] - 1s 2ms/step - loss: 21.4382 - accuracy: 0.0000e+00 - val_loss: 20.3016 - val_accuracy: 0.0000e+00\n",
      "Epoch 79/100\n",
      "240/240 [==============================] - 1s 2ms/step - loss: 21.3930 - accuracy: 0.0000e+00 - val_loss: 20.0836 - val_accuracy: 0.0000e+00\n",
      "Epoch 80/100\n",
      "240/240 [==============================] - 1s 2ms/step - loss: 21.3448 - accuracy: 0.0000e+00 - val_loss: 20.1100 - val_accuracy: 0.0000e+00\n",
      "Epoch 81/100\n",
      "240/240 [==============================] - 1s 2ms/step - loss: 21.3793 - accuracy: 0.0000e+00 - val_loss: 20.0491 - val_accuracy: 0.0000e+00\n",
      "Epoch 82/100\n",
      "240/240 [==============================] - 1s 4ms/step - loss: 21.1777 - accuracy: 0.0000e+00 - val_loss: 19.9348 - val_accuracy: 0.0000e+00\n",
      "Epoch 83/100\n",
      "240/240 [==============================] - 1s 4ms/step - loss: 21.2663 - accuracy: 0.0000e+00 - val_loss: 20.4755 - val_accuracy: 0.0000e+00\n",
      "Epoch 84/100\n",
      "240/240 [==============================] - 1s 3ms/step - loss: 21.3755 - accuracy: 0.0000e+00 - val_loss: 19.9573 - val_accuracy: 0.0000e+00\n",
      "Epoch 85/100\n",
      "240/240 [==============================] - 1s 2ms/step - loss: 21.1969 - accuracy: 0.0000e+00 - val_loss: 19.9228 - val_accuracy: 0.0000e+00\n",
      "Epoch 86/100\n",
      "240/240 [==============================] - 1s 3ms/step - loss: 21.2593 - accuracy: 0.0000e+00 - val_loss: 19.8072 - val_accuracy: 0.0000e+00\n",
      "Epoch 87/100\n",
      "240/240 [==============================] - 1s 2ms/step - loss: 21.3324 - accuracy: 0.0000e+00 - val_loss: 19.9233 - val_accuracy: 0.0000e+00\n",
      "Epoch 88/100\n",
      "240/240 [==============================] - 1s 3ms/step - loss: 21.2795 - accuracy: 0.0000e+00 - val_loss: 20.8791 - val_accuracy: 0.0000e+00\n",
      "Epoch 89/100\n",
      "240/240 [==============================] - 1s 2ms/step - loss: 21.2060 - accuracy: 0.0000e+00 - val_loss: 20.7344 - val_accuracy: 0.0000e+00\n",
      "Epoch 90/100\n",
      "240/240 [==============================] - 1s 2ms/step - loss: 21.2539 - accuracy: 0.0000e+00 - val_loss: 19.7928 - val_accuracy: 0.0000e+00\n",
      "Epoch 91/100\n",
      "240/240 [==============================] - 1s 3ms/step - loss: 21.4131 - accuracy: 0.0000e+00 - val_loss: 20.1887 - val_accuracy: 0.0000e+00\n",
      "Epoch 92/100\n",
      "240/240 [==============================] - 1s 2ms/step - loss: 21.2511 - accuracy: 0.0000e+00 - val_loss: 19.8149 - val_accuracy: 0.0000e+00\n",
      "Epoch 93/100\n",
      "240/240 [==============================] - 1s 2ms/step - loss: 21.2968 - accuracy: 0.0000e+00 - val_loss: 19.8965 - val_accuracy: 0.0000e+00\n",
      "Epoch 94/100\n",
      "240/240 [==============================] - 1s 2ms/step - loss: 21.2074 - accuracy: 0.0000e+00 - val_loss: 19.8721 - val_accuracy: 0.0000e+00\n",
      "Epoch 95/100\n",
      "240/240 [==============================] - 1s 2ms/step - loss: 21.1941 - accuracy: 0.0000e+00 - val_loss: 19.9804 - val_accuracy: 0.0000e+00\n",
      "Epoch 96/100\n",
      "240/240 [==============================] - 1s 2ms/step - loss: 21.2182 - accuracy: 0.0000e+00 - val_loss: 19.7356 - val_accuracy: 0.0000e+00\n",
      "Epoch 97/100\n",
      "240/240 [==============================] - 1s 2ms/step - loss: 21.2076 - accuracy: 0.0000e+00 - val_loss: 20.3656 - val_accuracy: 0.0000e+00\n",
      "Epoch 98/100\n",
      "240/240 [==============================] - 1s 2ms/step - loss: 21.2115 - accuracy: 0.0000e+00 - val_loss: 19.8724 - val_accuracy: 0.0000e+00\n",
      "Epoch 99/100\n",
      "240/240 [==============================] - 1s 2ms/step - loss: 21.1628 - accuracy: 0.0000e+00 - val_loss: 19.8396 - val_accuracy: 0.0000e+00\n",
      "Epoch 100/100\n",
      "240/240 [==============================] - 1s 2ms/step - loss: 21.2815 - accuracy: 0.0000e+00 - val_loss: 20.6483 - val_accuracy: 0.0000e+00\n"
     ]
    },
    {
     "data": {
      "text/plain": [
       "<keras.callbacks.History at 0x17627e9e550>"
      ]
     },
     "execution_count": 14,
     "metadata": {},
     "output_type": "execute_result"
    }
   ],
   "source": [
    "model.fit(X_train,y_train,\n",
    "          epochs=100,\n",
    "          batch_size = 32,\n",
    "          verbose=1,\n",
    "         validation_data=(X_test,y_test))"
   ]
  },
  {
   "cell_type": "code",
   "execution_count": 15,
   "id": "f0575a81",
   "metadata": {},
   "outputs": [
    {
     "name": "stdout",
     "output_type": "stream",
     "text": [
      "dict_keys(['loss', 'accuracy', 'val_loss', 'val_accuracy'])\n"
     ]
    },
    {
     "data": {
      "text/html": [
       "<div>\n",
       "<style scoped>\n",
       "    .dataframe tbody tr th:only-of-type {\n",
       "        vertical-align: middle;\n",
       "    }\n",
       "\n",
       "    .dataframe tbody tr th {\n",
       "        vertical-align: top;\n",
       "    }\n",
       "\n",
       "    .dataframe thead th {\n",
       "        text-align: right;\n",
       "    }\n",
       "</style>\n",
       "<table border=\"1\" class=\"dataframe\">\n",
       "  <thead>\n",
       "    <tr style=\"text-align: right;\">\n",
       "      <th></th>\n",
       "      <th>loss</th>\n",
       "      <th>accuracy</th>\n",
       "      <th>val_loss</th>\n",
       "      <th>val_accuracy</th>\n",
       "    </tr>\n",
       "  </thead>\n",
       "  <tbody>\n",
       "    <tr>\n",
       "      <th>0</th>\n",
       "      <td>204770.765625</td>\n",
       "      <td>0.0</td>\n",
       "      <td>200815.656250</td>\n",
       "      <td>0.0</td>\n",
       "    </tr>\n",
       "    <tr>\n",
       "      <th>1</th>\n",
       "      <td>186337.296875</td>\n",
       "      <td>0.0</td>\n",
       "      <td>166544.921875</td>\n",
       "      <td>0.0</td>\n",
       "    </tr>\n",
       "    <tr>\n",
       "      <th>2</th>\n",
       "      <td>135135.218750</td>\n",
       "      <td>0.0</td>\n",
       "      <td>100846.976562</td>\n",
       "      <td>0.0</td>\n",
       "    </tr>\n",
       "    <tr>\n",
       "      <th>3</th>\n",
       "      <td>66667.914062</td>\n",
       "      <td>0.0</td>\n",
       "      <td>37039.566406</td>\n",
       "      <td>0.0</td>\n",
       "    </tr>\n",
       "    <tr>\n",
       "      <th>4</th>\n",
       "      <td>19438.125000</td>\n",
       "      <td>0.0</td>\n",
       "      <td>8325.806641</td>\n",
       "      <td>0.0</td>\n",
       "    </tr>\n",
       "  </tbody>\n",
       "</table>\n",
       "</div>"
      ],
      "text/plain": [
       "            loss  accuracy       val_loss  val_accuracy\n",
       "0  204770.765625       0.0  200815.656250           0.0\n",
       "1  186337.296875       0.0  166544.921875           0.0\n",
       "2  135135.218750       0.0  100846.976562           0.0\n",
       "3   66667.914062       0.0   37039.566406           0.0\n",
       "4   19438.125000       0.0    8325.806641           0.0"
      ]
     },
     "execution_count": 15,
     "metadata": {},
     "output_type": "execute_result"
    }
   ],
   "source": [
    "print(model.history.history.keys())\n",
    "model_loss=pd.DataFrame(model.history.history)\n",
    "model_loss.head()"
   ]
  },
  {
   "cell_type": "code",
   "execution_count": 16,
   "id": "a3932267",
   "metadata": {},
   "outputs": [
    {
     "data": {
      "text/plain": [
       "<AxesSubplot:>"
      ]
     },
     "execution_count": 16,
     "metadata": {},
     "output_type": "execute_result"
    },
    {
     "data": {
      "image/png": "[encoded data removed]",
      "text/plain": [
       "<Figure size 432x288 with 1 Axes>"
      ]
     },
     "metadata": {
      "needs_background": "light"
     },
     "output_type": "display_data"
    }
   ],
   "source": [
    "model_loss.plot()"
   ]
  },
  {
   "cell_type": "code",
   "execution_count": null,
   "id": "cd5fd596",
   "metadata": {},
   "outputs": [],
   "source": []
  }
 ],
 "metadata": {
  "kernelspec": {
   "display_name": "Python 3 (ipykernel)",
   "language": "python",
   "name": "python3"
  },
  "language_info": {
   "codemirror_mode": {
    "name": "ipython",
    "version": 3
   },
   "file_extension": ".py",
   "mimetype": "text/x-python",
   "name": "python",
   "nbconvert_exporter": "python",
   "pygments_lexer": "ipython3",
   "version": "3.9.7"
  }
 },
 "nbformat": 4,
 "nbformat_minor": 5
}
