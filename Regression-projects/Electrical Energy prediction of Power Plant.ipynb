{
 "cells": [
  {
   "cell_type": "markdown",
   "id": "2ffb718e",
   "metadata": {},
   "source": [
    "# <center>Electrical Energy prediction of Power Plant"
   ]
  },
  {
   "cell_type": "markdown",
   "id": "f2ef98fc",
   "metadata": {},
   "source": [
    "**In this project**\n",
    "- applying keras seqential model\n",
    "- visulaizing the loss and val loss through 100 epoch"
   ]
  },
  {
   "cell_type": "markdown",
   "id": "eb01c4b3",
   "metadata": {},
   "source": [
    "**Link of datasets**\n",
    "- https://archive.ics.uci.edu/ml/datasets/Combined+Cycle+Power+Plant"
   ]
  },
  {
   "cell_type": "code",
   "execution_count": 1,
   "id": "1b9bd6af",
   "metadata": {},
   "outputs": [],
   "source": [
    "# Importing the libraries\n",
    "import numpy as np\n",
    "import pandas as pd\n",
    "import matplotlib.pyplot as plt\n",
    "import seaborn as sns\n",
    "#------------------sklearn\n",
    "from sklearn.model_selection import train_test_split\n",
    "from sklearn.preprocessing import MinMaxScaler,StandardScaler\n",
    "#from sklearn.preprocessing import tra\n",
    "#-------------- tensorflow- keras\n",
    "from tensorflow import keras\n",
    "#import model\n",
    "from keras.models import Sequential\n",
    "# import the layers\n",
    "from keras.layers import Dense"
   ]
  },
  {
   "cell_type": "code",
   "execution_count": 2,
   "id": "2b961511",
   "metadata": {},
   "outputs": [
    {
     "name": "stdout",
     "output_type": "stream",
     "text": [
      "(9568, 5)\n"
     ]
    },
    {
     "data": {
      "text/html": [
       "<div>\n",
       "<style scoped>\n",
       "    .dataframe tbody tr th:only-of-type {\n",
       "        vertical-align: middle;\n",
       "    }\n",
       "\n",
       "    .dataframe tbody tr th {\n",
       "        vertical-align: top;\n",
       "    }\n",
       "\n",
       "    .dataframe thead th {\n",
       "        text-align: right;\n",
       "    }\n",
       "</style>\n",
       "<table border=\"1\" class=\"dataframe\">\n",
       "  <thead>\n",
       "    <tr style=\"text-align: right;\">\n",
       "      <th></th>\n",
       "      <th>AT</th>\n",
       "      <th>V</th>\n",
       "      <th>AP</th>\n",
       "      <th>RH</th>\n",
       "      <th>PE</th>\n",
       "    </tr>\n",
       "  </thead>\n",
       "  <tbody>\n",
       "    <tr>\n",
       "      <th>0</th>\n",
       "      <td>14.96</td>\n",
       "      <td>41.76</td>\n",
       "      <td>1024.07</td>\n",
       "      <td>73.17</td>\n",
       "      <td>463.26</td>\n",
       "    </tr>\n",
       "    <tr>\n",
       "      <th>1</th>\n",
       "      <td>25.18</td>\n",
       "      <td>62.96</td>\n",
       "      <td>1020.04</td>\n",
       "      <td>59.08</td>\n",
       "      <td>444.37</td>\n",
       "    </tr>\n",
       "    <tr>\n",
       "      <th>2</th>\n",
       "      <td>5.11</td>\n",
       "      <td>39.40</td>\n",
       "      <td>1012.16</td>\n",
       "      <td>92.14</td>\n",
       "      <td>488.56</td>\n",
       "    </tr>\n",
       "  </tbody>\n",
       "</table>\n",
       "</div>"
      ],
      "text/plain": [
       "      AT      V       AP     RH      PE\n",
       "0  14.96  41.76  1024.07  73.17  463.26\n",
       "1  25.18  62.96  1020.04  59.08  444.37\n",
       "2   5.11  39.40  1012.16  92.14  488.56"
      ]
     },
     "execution_count": 2,
     "metadata": {},
     "output_type": "execute_result"
    }
   ],
   "source": [
    "df=pd.read_excel(\"Folds5x2_pp.xlsx\")\n",
    "print(df.shape)\n",
    "df.head(3)"
   ]
  },
  {
   "cell_type": "markdown",
   "id": "cb6d084c",
   "metadata": {},
   "source": [
    "### Exploratory Data Analysis\n",
    "- check for **Missing** values\n",
    "- check statics for **numerical features**\n",
    "- labeling **categorical features**"
   ]
  },
  {
   "cell_type": "code",
   "execution_count": 3,
   "id": "c37352f4",
   "metadata": {},
   "outputs": [
    {
     "name": "stdout",
     "output_type": "stream",
     "text": [
      "<class 'pandas.core.frame.DataFrame'>\n",
      "RangeIndex: 9568 entries, 0 to 9567\n",
      "Data columns (total 5 columns):\n",
      " #   Column  Non-Null Count  Dtype  \n",
      "---  ------  --------------  -----  \n",
      " 0   AT      9568 non-null   float64\n",
      " 1   V       9568 non-null   float64\n",
      " 2   AP      9568 non-null   float64\n",
      " 3   RH      9568 non-null   float64\n",
      " 4   PE      9568 non-null   float64\n",
      "dtypes: float64(5)\n",
      "memory usage: 373.9 KB\n"
     ]
    }
   ],
   "source": [
    "df.info()"
   ]
  },
  {
   "cell_type": "code",
   "execution_count": 4,
   "id": "70307199",
   "metadata": {},
   "outputs": [
    {
     "data": {
      "text/plain": [
       "AT    0\n",
       "V     0\n",
       "AP    0\n",
       "RH    0\n",
       "PE    0\n",
       "dtype: int64"
      ]
     },
     "execution_count": 4,
     "metadata": {},
     "output_type": "execute_result"
    }
   ],
   "source": [
    "# checking for missing values\n",
    "df.isnull().sum()"
   ]
  },
  {
   "cell_type": "code",
   "execution_count": 5,
   "id": "5fa1801b",
   "metadata": {},
   "outputs": [
    {
     "data": {
      "text/plain": [
       "False"
      ]
     },
     "execution_count": 5,
     "metadata": {},
     "output_type": "execute_result"
    }
   ],
   "source": [
    "# checking postive values\n",
    "(df < 0).values.any()"
   ]
  },
  {
   "cell_type": "code",
   "execution_count": 6,
   "id": "a1715f17",
   "metadata": {},
   "outputs": [
    {
     "data": {
      "text/html": [
       "<div>\n",
       "<style scoped>\n",
       "    .dataframe tbody tr th:only-of-type {\n",
       "        vertical-align: middle;\n",
       "    }\n",
       "\n",
       "    .dataframe tbody tr th {\n",
       "        vertical-align: top;\n",
       "    }\n",
       "\n",
       "    .dataframe thead th {\n",
       "        text-align: right;\n",
       "    }\n",
       "</style>\n",
       "<table border=\"1\" class=\"dataframe\">\n",
       "  <thead>\n",
       "    <tr style=\"text-align: right;\">\n",
       "      <th></th>\n",
       "      <th>count</th>\n",
       "      <th>mean</th>\n",
       "      <th>std</th>\n",
       "      <th>min</th>\n",
       "      <th>25%</th>\n",
       "      <th>50%</th>\n",
       "      <th>75%</th>\n",
       "      <th>max</th>\n",
       "    </tr>\n",
       "  </thead>\n",
       "  <tbody>\n",
       "    <tr>\n",
       "      <th>AT</th>\n",
       "      <td>9568.0</td>\n",
       "      <td>19.651231</td>\n",
       "      <td>7.452473</td>\n",
       "      <td>1.81</td>\n",
       "      <td>13.5100</td>\n",
       "      <td>20.345</td>\n",
       "      <td>25.72</td>\n",
       "      <td>37.11</td>\n",
       "    </tr>\n",
       "    <tr>\n",
       "      <th>V</th>\n",
       "      <td>9568.0</td>\n",
       "      <td>54.305804</td>\n",
       "      <td>12.707893</td>\n",
       "      <td>25.36</td>\n",
       "      <td>41.7400</td>\n",
       "      <td>52.080</td>\n",
       "      <td>66.54</td>\n",
       "      <td>81.56</td>\n",
       "    </tr>\n",
       "    <tr>\n",
       "      <th>AP</th>\n",
       "      <td>9568.0</td>\n",
       "      <td>1013.259078</td>\n",
       "      <td>5.938784</td>\n",
       "      <td>992.89</td>\n",
       "      <td>1009.1000</td>\n",
       "      <td>1012.940</td>\n",
       "      <td>1017.26</td>\n",
       "      <td>1033.30</td>\n",
       "    </tr>\n",
       "    <tr>\n",
       "      <th>RH</th>\n",
       "      <td>9568.0</td>\n",
       "      <td>73.308978</td>\n",
       "      <td>14.600269</td>\n",
       "      <td>25.56</td>\n",
       "      <td>63.3275</td>\n",
       "      <td>74.975</td>\n",
       "      <td>84.83</td>\n",
       "      <td>100.16</td>\n",
       "    </tr>\n",
       "    <tr>\n",
       "      <th>PE</th>\n",
       "      <td>9568.0</td>\n",
       "      <td>454.365009</td>\n",
       "      <td>17.066995</td>\n",
       "      <td>420.26</td>\n",
       "      <td>439.7500</td>\n",
       "      <td>451.550</td>\n",
       "      <td>468.43</td>\n",
       "      <td>495.76</td>\n",
       "    </tr>\n",
       "  </tbody>\n",
       "</table>\n",
       "</div>"
      ],
      "text/plain": [
       "     count         mean        std     min        25%       50%      75%  \\\n",
       "AT  9568.0    19.651231   7.452473    1.81    13.5100    20.345    25.72   \n",
       "V   9568.0    54.305804  12.707893   25.36    41.7400    52.080    66.54   \n",
       "AP  9568.0  1013.259078   5.938784  992.89  1009.1000  1012.940  1017.26   \n",
       "RH  9568.0    73.308978  14.600269   25.56    63.3275    74.975    84.83   \n",
       "PE  9568.0   454.365009  17.066995  420.26   439.7500   451.550   468.43   \n",
       "\n",
       "        max  \n",
       "AT    37.11  \n",
       "V     81.56  \n",
       "AP  1033.30  \n",
       "RH   100.16  \n",
       "PE   495.76  "
      ]
     },
     "execution_count": 6,
     "metadata": {},
     "output_type": "execute_result"
    }
   ],
   "source": [
    "# statistical representation\n",
    "df.describe().T"
   ]
  },
  {
   "cell_type": "code",
   "execution_count": 7,
   "id": "aa429a1e",
   "metadata": {},
   "outputs": [
    {
     "data": {
      "text/plain": [
       "<AxesSubplot:>"
      ]
     },
     "execution_count": 7,
     "metadata": {},
     "output_type": "execute_result"
    },
    {
     "data": {
      "image/png": "[encoded data removed]",
      "text/plain": [
       "<Figure size 432x288 with 2 Axes>"
      ]
     },
     "metadata": {
      "needs_background": "light"
     },
     "output_type": "display_data"
    }
   ],
   "source": [
    "# Correlation\n",
    "sns.heatmap(df.corr(),center=True,annot=True)"
   ]
  },
  {
   "cell_type": "code",
   "execution_count": 8,
   "id": "032b7a5f",
   "metadata": {},
   "outputs": [],
   "source": [
    "# separion Features and Target matrix\n",
    "X=df.drop([\"PE\"],axis=1).values\n",
    "y=df[\"PE\"].values"
   ]
  },
  {
   "cell_type": "code",
   "execution_count": 9,
   "id": "491b4162",
   "metadata": {},
   "outputs": [
    {
     "name": "stdout",
     "output_type": "stream",
     "text": [
      "(9568, 5) (7654, 4) (1914, 4)\n"
     ]
    }
   ],
   "source": [
    "# Separting traing testing validating sets\n",
    "X_train, X_test, y_train, y_test = train_test_split(X,y, test_size = 0.2,random_state=40)\n",
    "print(df.shape,X_train.shape, X_test.shape)"
   ]
  },
  {
   "cell_type": "code",
   "execution_count": 10,
   "id": "039443fb",
   "metadata": {},
   "outputs": [
    {
     "name": "stdout",
     "output_type": "stream",
     "text": [
      "0.0 1.0000000000000002\n"
     ]
    }
   ],
   "source": [
    "# scalling\n",
    "scaler=MinMaxScaler()\n",
    "X_train=scaler.fit_transform(X_train)\n",
    "X_test=scaler.transform(X_test)\n",
    "print(X_train.min(),X_train.max())"
   ]
  },
  {
   "cell_type": "markdown",
   "id": "6296f760",
   "metadata": {},
   "source": [
    "### Building Neural Network Model\n",
    "- Building Arcitucture\n",
    "    - sequential model\n",
    "    - hidden layers\n",
    "    - output layer\n",
    "    - activation function\n",
    "- Model compile\n",
    "- Model traning"
   ]
  },
  {
   "cell_type": "code",
   "execution_count": 11,
   "id": "4435f172",
   "metadata": {},
   "outputs": [
    {
     "name": "stdout",
     "output_type": "stream",
     "text": [
      "Model: \"sequential\"\n",
      "_________________________________________________________________\n",
      "Layer (type)                 Output Shape              Param #   \n",
      "=================================================================\n",
      "dense (Dense)                (None, 6)                 30        \n",
      "_________________________________________________________________\n",
      "dense_1 (Dense)              (None, 6)                 42        \n",
      "_________________________________________________________________\n",
      "dense_2 (Dense)              (None, 1)                 7         \n",
      "=================================================================\n",
      "Total params: 79\n",
      "Trainable params: 79\n",
      "Non-trainable params: 0\n",
      "_________________________________________________________________\n"
     ]
    }
   ],
   "source": [
    "model=Sequential()\n",
    "model.add(Dense(6,activation='relu',input_shape=(X.shape[1],)))\n",
    "model.add(Dense(6,activation='relu'))\n",
    "model.add(Dense(1))\n",
    "model.summary()"
   ]
  },
  {
   "cell_type": "code",
   "execution_count": 12,
   "id": "042004d6",
   "metadata": {},
   "outputs": [
    {
     "name": "stdout",
     "output_type": "stream",
     "text": [
      "mean_squared_error\n"
     ]
    }
   ],
   "source": [
    "model.compile(optimizer=\"adam\",\n",
    "             loss=\"mean_squared_error\")\n",
    "print(model.loss)# print the type of loss function"
   ]
  },
  {
   "cell_type": "code",
   "execution_count": 13,
   "id": "a74f274a",
   "metadata": {},
   "outputs": [
    {
     "name": "stdout",
     "output_type": "stream",
     "text": [
      "Epoch 1/100\n",
      "240/240 [==============================] - 1s 3ms/step - loss: 204766.2969 - val_loss: 200989.9531\n",
      "Epoch 2/100\n",
      "240/240 [==============================] - 1s 2ms/step - loss: 188133.6719 - val_loss: 171129.5781\n",
      "Epoch 3/100\n",
      "240/240 [==============================] - 1s 2ms/step - loss: 143798.8281 - val_loss: 113619.8672\n",
      "Epoch 4/100\n",
      "240/240 [==============================] - 1s 2ms/step - loss: 80991.9141 - val_loss: 51058.8164\n",
      "Epoch 5/100\n",
      "240/240 [==============================] - 1s 2ms/step - loss: 29613.9062 - val_loss: 14241.4629\n",
      "Epoch 6/100\n",
      "240/240 [==============================] - 0s 2ms/step - loss: 7824.8105 - val_loss: 4432.9165\n",
      "Epoch 7/100\n",
      "240/240 [==============================] - 1s 2ms/step - loss: 3692.4126 - val_loss: 3290.9409\n",
      "Epoch 8/100\n",
      "240/240 [==============================] - 1s 2ms/step - loss: 3268.0120 - val_loss: 3113.6201\n",
      "Epoch 9/100\n",
      "240/240 [==============================] - 1s 2ms/step - loss: 3132.5964 - val_loss: 2982.6968\n",
      "Epoch 10/100\n",
      "240/240 [==============================] - 1s 2ms/step - loss: 2999.2432 - val_loss: 2848.9058\n",
      "Epoch 11/100\n",
      "240/240 [==============================] - 1s 2ms/step - loss: 2859.5566 - val_loss: 2709.0852\n",
      "Epoch 12/100\n",
      "240/240 [==============================] - 1s 2ms/step - loss: 2716.9224 - val_loss: 2570.6638\n",
      "Epoch 13/100\n",
      "240/240 [==============================] - 1s 2ms/step - loss: 2572.9268 - val_loss: 2429.0752\n",
      "Epoch 14/100\n",
      "240/240 [==============================] - 1s 2ms/step - loss: 2429.8083 - val_loss: 2288.3755\n",
      "Epoch 15/100\n",
      "240/240 [==============================] - 1s 2ms/step - loss: 2288.8364 - val_loss: 2152.6233\n",
      "Epoch 16/100\n",
      "240/240 [==============================] - 1s 2ms/step - loss: 2152.9766 - val_loss: 2022.4338\n",
      "Epoch 17/100\n",
      "240/240 [==============================] - 1s 2ms/step - loss: 2023.5125 - val_loss: 1898.8943\n",
      "Epoch 18/100\n",
      "240/240 [==============================] - 1s 2ms/step - loss: 1902.9667 - val_loss: 1785.7626\n",
      "Epoch 19/100\n",
      "240/240 [==============================] - 1s 2ms/step - loss: 1791.2290 - val_loss: 1680.9968\n",
      "Epoch 20/100\n",
      "240/240 [==============================] - 1s 2ms/step - loss: 1688.3723 - val_loss: 1584.2683\n",
      "Epoch 21/100\n",
      "240/240 [==============================] - 0s 2ms/step - loss: 1594.9524 - val_loss: 1497.5377\n",
      "Epoch 22/100\n",
      "240/240 [==============================] - 1s 2ms/step - loss: 1509.0551 - val_loss: 1417.7347\n",
      "Epoch 23/100\n",
      "240/240 [==============================] - 1s 3ms/step - loss: 1431.7230 - val_loss: 1344.4045\n",
      "Epoch 24/100\n",
      "240/240 [==============================] - 1s 3ms/step - loss: 1357.8792 - val_loss: 1275.3893\n",
      "Epoch 25/100\n",
      "240/240 [==============================] - 1s 3ms/step - loss: 1288.0730 - val_loss: 1211.5009\n",
      "Epoch 26/100\n",
      "240/240 [==============================] - 1s 2ms/step - loss: 1222.2732 - val_loss: 1148.7806\n",
      "Epoch 27/100\n",
      "240/240 [==============================] - 1s 2ms/step - loss: 1158.6301 - val_loss: 1088.6875\n",
      "Epoch 28/100\n",
      "240/240 [==============================] - 1s 2ms/step - loss: 1096.9207 - val_loss: 1032.0602\n",
      "Epoch 29/100\n",
      "240/240 [==============================] - 1s 2ms/step - loss: 1036.0389 - val_loss: 972.2835\n",
      "Epoch 30/100\n",
      "240/240 [==============================] - 1s 2ms/step - loss: 975.8553 - val_loss: 915.3276\n",
      "Epoch 31/100\n",
      "240/240 [==============================] - 1s 2ms/step - loss: 915.4686 - val_loss: 859.6395\n",
      "Epoch 32/100\n",
      "240/240 [==============================] - 1s 2ms/step - loss: 857.6974 - val_loss: 804.9778\n",
      "Epoch 33/100\n",
      "240/240 [==============================] - 1s 2ms/step - loss: 800.0431 - val_loss: 751.5457\n",
      "Epoch 34/100\n",
      "240/240 [==============================] - 1s 2ms/step - loss: 744.2638 - val_loss: 700.3672\n",
      "Epoch 35/100\n",
      "240/240 [==============================] - 1s 2ms/step - loss: 690.9397 - val_loss: 650.0359\n",
      "Epoch 36/100\n",
      "240/240 [==============================] - 1s 2ms/step - loss: 639.1612 - val_loss: 601.3605\n",
      "Epoch 37/100\n",
      "240/240 [==============================] - 1s 2ms/step - loss: 589.6091 - val_loss: 555.5781\n",
      "Epoch 38/100\n",
      "240/240 [==============================] - 1s 2ms/step - loss: 542.7837 - val_loss: 511.9255\n",
      "Epoch 39/100\n",
      "240/240 [==============================] - 1s 2ms/step - loss: 498.2614 - val_loss: 470.4369\n",
      "Epoch 40/100\n",
      "240/240 [==============================] - 1s 2ms/step - loss: 455.6125 - val_loss: 431.4796\n",
      "Epoch 41/100\n",
      "240/240 [==============================] - 1s 2ms/step - loss: 415.7773 - val_loss: 395.1642\n",
      "Epoch 42/100\n",
      "240/240 [==============================] - 1s 2ms/step - loss: 378.6310 - val_loss: 363.6219\n",
      "Epoch 43/100\n",
      "240/240 [==============================] - 1s 2ms/step - loss: 344.2384 - val_loss: 331.0709\n",
      "Epoch 44/100\n",
      "240/240 [==============================] - 1s 2ms/step - loss: 311.6739 - val_loss: 298.5400\n",
      "Epoch 45/100\n",
      "240/240 [==============================] - 1s 2ms/step - loss: 281.9170 - val_loss: 271.0833\n",
      "Epoch 46/100\n",
      "240/240 [==============================] - 1s 2ms/step - loss: 254.3243 - val_loss: 245.9505\n",
      "Epoch 47/100\n",
      "240/240 [==============================] - 1s 2ms/step - loss: 228.7321 - val_loss: 222.0080\n",
      "Epoch 48/100\n",
      "240/240 [==============================] - 1s 2ms/step - loss: 205.2600 - val_loss: 199.4726\n",
      "Epoch 49/100\n",
      "240/240 [==============================] - 1s 2ms/step - loss: 183.4031 - val_loss: 179.8794\n",
      "Epoch 50/100\n",
      "240/240 [==============================] - 0s 2ms/step - loss: 163.6750 - val_loss: 160.3084\n",
      "Epoch 51/100\n",
      "240/240 [==============================] - 1s 2ms/step - loss: 145.8707 - val_loss: 144.4079\n",
      "Epoch 52/100\n",
      "240/240 [==============================] - 1s 3ms/step - loss: 129.0749 - val_loss: 128.1383\n",
      "Epoch 53/100\n",
      "240/240 [==============================] - 1s 3ms/step - loss: 114.2248 - val_loss: 112.7582\n",
      "Epoch 54/100\n",
      "240/240 [==============================] - 1s 3ms/step - loss: 100.7068 - val_loss: 99.7685\n",
      "Epoch 55/100\n",
      "240/240 [==============================] - 1s 3ms/step - loss: 88.6448 - val_loss: 88.4044\n",
      "Epoch 56/100\n",
      "240/240 [==============================] - 1s 2ms/step - loss: 77.9364 - val_loss: 77.5254\n",
      "Epoch 57/100\n",
      "240/240 [==============================] - 1s 2ms/step - loss: 68.4704 - val_loss: 68.0030\n",
      "Epoch 58/100\n",
      "240/240 [==============================] - ETA: 0s - loss: 60.33 - 1s 2ms/step - loss: 60.2135 - val_loss: 59.9404\n",
      "Epoch 59/100\n",
      "240/240 [==============================] - 1s 2ms/step - loss: 52.9184 - val_loss: 52.7443\n",
      "Epoch 60/100\n",
      "240/240 [==============================] - 1s 2ms/step - loss: 46.8578 - val_loss: 46.5217\n",
      "Epoch 61/100\n",
      "240/240 [==============================] - 1s 2ms/step - loss: 41.5053 - val_loss: 41.3153\n",
      "Epoch 62/100\n",
      "240/240 [==============================] - 1s 2ms/step - loss: 37.0220 - val_loss: 37.6617\n",
      "Epoch 63/100\n",
      "240/240 [==============================] - 1s 2ms/step - loss: 33.4783 - val_loss: 32.9864\n",
      "Epoch 64/100\n",
      "240/240 [==============================] - 1s 2ms/step - loss: 30.3338 - val_loss: 30.7305\n",
      "Epoch 65/100\n",
      "240/240 [==============================] - 1s 2ms/step - loss: 28.0279 - val_loss: 28.7596\n",
      "Epoch 66/100\n",
      "240/240 [==============================] - 1s 2ms/step - loss: 26.2564 - val_loss: 25.7175\n",
      "Epoch 67/100\n",
      "240/240 [==============================] - 1s 2ms/step - loss: 24.7183 - val_loss: 24.0192\n",
      "Epoch 68/100\n",
      "240/240 [==============================] - 1s 2ms/step - loss: 23.6542 - val_loss: 24.0602\n",
      "Epoch 69/100\n",
      "240/240 [==============================] - 1s 2ms/step - loss: 22.9328 - val_loss: 22.0383\n",
      "Epoch 70/100\n",
      "240/240 [==============================] - 1s 2ms/step - loss: 22.3392 - val_loss: 21.5792\n",
      "Epoch 71/100\n",
      "240/240 [==============================] - 1s 2ms/step - loss: 22.1111 - val_loss: 21.1285\n",
      "Epoch 72/100\n",
      "240/240 [==============================] - 1s 2ms/step - loss: 21.6663 - val_loss: 21.7750\n",
      "Epoch 73/100\n",
      "240/240 [==============================] - 1s 2ms/step - loss: 21.5729 - val_loss: 20.4257\n",
      "Epoch 74/100\n",
      "240/240 [==============================] - 1s 2ms/step - loss: 21.5197 - val_loss: 20.3757\n",
      "Epoch 75/100\n",
      "240/240 [==============================] - 1s 2ms/step - loss: 21.3396 - val_loss: 21.0520\n",
      "Epoch 76/100\n",
      "240/240 [==============================] - 1s 2ms/step - loss: 21.3405 - val_loss: 20.1904\n",
      "Epoch 77/100\n",
      "240/240 [==============================] - 1s 2ms/step - loss: 21.2268 - val_loss: 20.0708\n"
     ]
    },
    {
     "name": "stdout",
     "output_type": "stream",
     "text": [
      "Epoch 78/100\n",
      "240/240 [==============================] - 0s 2ms/step - loss: 21.3487 - val_loss: 20.3604\n",
      "Epoch 79/100\n",
      "240/240 [==============================] - 0s 2ms/step - loss: 21.2855 - val_loss: 21.1907\n",
      "Epoch 80/100\n",
      "240/240 [==============================] - 0s 2ms/step - loss: 21.2637 - val_loss: 20.0271\n",
      "Epoch 81/100\n",
      "240/240 [==============================] - 0s 2ms/step - loss: 21.2954 - val_loss: 20.0205\n",
      "Epoch 82/100\n",
      "240/240 [==============================] - 0s 2ms/step - loss: 21.1867 - val_loss: 19.8310\n",
      "Epoch 83/100\n",
      "240/240 [==============================] - 1s 2ms/step - loss: 21.2615 - val_loss: 19.8193\n",
      "Epoch 84/100\n",
      "240/240 [==============================] - 1s 3ms/step - loss: 21.3197 - val_loss: 20.0234\n",
      "Epoch 85/100\n",
      "240/240 [==============================] - 1s 2ms/step - loss: 21.2572 - val_loss: 19.8929\n",
      "Epoch 86/100\n",
      "240/240 [==============================] - 1s 2ms/step - loss: 21.2372 - val_loss: 20.5757\n",
      "Epoch 87/100\n",
      "240/240 [==============================] - 0s 2ms/step - loss: 21.3527 - val_loss: 19.7450\n",
      "Epoch 88/100\n",
      "240/240 [==============================] - 0s 2ms/step - loss: 21.2922 - val_loss: 19.9841\n",
      "Epoch 89/100\n",
      "240/240 [==============================] - 0s 2ms/step - loss: 21.2394 - val_loss: 19.7609\n",
      "Epoch 90/100\n",
      "240/240 [==============================] - 0s 2ms/step - loss: 21.2908 - val_loss: 20.1789\n",
      "Epoch 91/100\n",
      "240/240 [==============================] - 0s 2ms/step - loss: 21.2750 - val_loss: 21.4092\n",
      "Epoch 92/100\n",
      "240/240 [==============================] - 0s 2ms/step - loss: 21.1901 - val_loss: 19.7872\n",
      "Epoch 93/100\n",
      "240/240 [==============================] - 0s 2ms/step - loss: 21.3498 - val_loss: 20.0556\n",
      "Epoch 94/100\n",
      "240/240 [==============================] - 0s 2ms/step - loss: 21.1631 - val_loss: 20.5348\n",
      "Epoch 95/100\n",
      "240/240 [==============================] - 0s 2ms/step - loss: 21.3710 - val_loss: 19.7765\n",
      "Epoch 96/100\n",
      "240/240 [==============================] - 0s 2ms/step - loss: 21.3978 - val_loss: 20.0568\n",
      "Epoch 97/100\n",
      "240/240 [==============================] - 0s 2ms/step - loss: 21.3271 - val_loss: 19.7350\n",
      "Epoch 98/100\n",
      "240/240 [==============================] - 0s 2ms/step - loss: 21.2304 - val_loss: 19.8213\n",
      "Epoch 99/100\n",
      "240/240 [==============================] - 0s 2ms/step - loss: 21.2058 - val_loss: 20.2577\n",
      "Epoch 100/100\n",
      "240/240 [==============================] - 0s 2ms/step - loss: 21.2854 - val_loss: 20.0938\n"
     ]
    },
    {
     "data": {
      "text/plain": [
       "<keras.callbacks.History at 0x24db3cdbd90>"
      ]
     },
     "execution_count": 13,
     "metadata": {},
     "output_type": "execute_result"
    }
   ],
   "source": [
    "model.fit(X_train,y_train,\n",
    "          epochs=100,\n",
    "          batch_size = 32,\n",
    "          verbose=1,\n",
    "         validation_data=(X_test,y_test))"
   ]
  },
  {
   "cell_type": "code",
   "execution_count": 14,
   "id": "d52cab46",
   "metadata": {},
   "outputs": [
    {
     "name": "stdout",
     "output_type": "stream",
     "text": [
      "dict_keys(['loss', 'val_loss'])\n"
     ]
    },
    {
     "data": {
      "text/html": [
       "<div>\n",
       "<style scoped>\n",
       "    .dataframe tbody tr th:only-of-type {\n",
       "        vertical-align: middle;\n",
       "    }\n",
       "\n",
       "    .dataframe tbody tr th {\n",
       "        vertical-align: top;\n",
       "    }\n",
       "\n",
       "    .dataframe thead th {\n",
       "        text-align: right;\n",
       "    }\n",
       "</style>\n",
       "<table border=\"1\" class=\"dataframe\">\n",
       "  <thead>\n",
       "    <tr style=\"text-align: right;\">\n",
       "      <th></th>\n",
       "      <th>loss</th>\n",
       "      <th>val_loss</th>\n",
       "    </tr>\n",
       "  </thead>\n",
       "  <tbody>\n",
       "    <tr>\n",
       "      <th>0</th>\n",
       "      <td>204766.296875</td>\n",
       "      <td>200989.953125</td>\n",
       "    </tr>\n",
       "    <tr>\n",
       "      <th>1</th>\n",
       "      <td>188133.671875</td>\n",
       "      <td>171129.578125</td>\n",
       "    </tr>\n",
       "    <tr>\n",
       "      <th>2</th>\n",
       "      <td>143798.828125</td>\n",
       "      <td>113619.867188</td>\n",
       "    </tr>\n",
       "    <tr>\n",
       "      <th>3</th>\n",
       "      <td>80991.914062</td>\n",
       "      <td>51058.816406</td>\n",
       "    </tr>\n",
       "    <tr>\n",
       "      <th>4</th>\n",
       "      <td>29613.906250</td>\n",
       "      <td>14241.462891</td>\n",
       "    </tr>\n",
       "  </tbody>\n",
       "</table>\n",
       "</div>"
      ],
      "text/plain": [
       "            loss       val_loss\n",
       "0  204766.296875  200989.953125\n",
       "1  188133.671875  171129.578125\n",
       "2  143798.828125  113619.867188\n",
       "3   80991.914062   51058.816406\n",
       "4   29613.906250   14241.462891"
      ]
     },
     "execution_count": 14,
     "metadata": {},
     "output_type": "execute_result"
    }
   ],
   "source": [
    "print(model.history.history.keys())\n",
    "model_loss=pd.DataFrame(model.history.history)\n",
    "model_loss.head()"
   ]
  },
  {
   "cell_type": "code",
   "execution_count": 15,
   "id": "9e6ecdee",
   "metadata": {},
   "outputs": [
    {
     "data": {
      "text/plain": [
       "<AxesSubplot:>"
      ]
     },
     "execution_count": 15,
     "metadata": {},
     "output_type": "execute_result"
    },
    {
     "data": {
      "image/png": "[encoded data removed]",
      "text/plain": [
       "<Figure size 432x288 with 1 Axes>"
      ]
     },
     "metadata": {
      "needs_background": "light"
     },
     "output_type": "display_data"
    }
   ],
   "source": [
    "model_loss.plot()"
   ]
  },
  {
   "cell_type": "code",
   "execution_count": null,
   "id": "6b1dd92e",
   "metadata": {},
   "outputs": [],
   "source": []
  }
 ],
 "metadata": {
  "kernelspec": {
   "display_name": "Python 3 (ipykernel)",
   "language": "python",
   "name": "python3"
  },
  "language_info": {
   "codemirror_mode": {
    "name": "ipython",
    "version": 3
   },
   "file_extension": ".py",
   "mimetype": "text/x-python",
   "name": "python",
   "nbconvert_exporter": "python",
   "pygments_lexer": "ipython3",
   "version": "3.9.7"
  }
 },
 "nbformat": 4,
 "nbformat_minor": 5
}
